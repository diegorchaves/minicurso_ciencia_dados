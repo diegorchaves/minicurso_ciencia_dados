{
  "cells": [
    {
      "cell_type": "markdown",
      "id": "1e5acd9a",
      "metadata": {
        "id": "1e5acd9a"
      },
      "source": [
        "# Classificação com k-NN\n",
        "Este notebook demonstra a tarefa de **classificação** usando o algoritmo k-NN (k-Vizinhos Mais Próximos) em um dataset fictício de frutas."
      ]
    },
    {
      "cell_type": "markdown",
      "id": "2690918f",
      "metadata": {
        "id": "2690918f"
      },
      "source": [
        "## 1. Criar Dataset\n",
        "Geramos um dataset fictício com 50 amostras, contendo as colunas:\n",
        "- Peso (g)\n",
        "- Tamanho (cm)\n",
        "- Doçura (1-10)\n",
        "\n",
        "Classes: Maçã, Banana, Laranja"
      ]
    },
    {
      "cell_type": "code",
      "execution_count": null,
      "id": "654ec45e",
      "metadata": {
        "id": "654ec45e"
      },
      "outputs": [],
      "source": [
        "import pandas as pd\n",
        "import numpy as np\n",
        "\n",
        "np.random.seed(42)\n",
        "n = 50\n",
        "\n",
        "frutas = {\n",
        "    \"Maçã\": {\n",
        "        \"peso\": np.random.normal(150, 10, n),      # em gramas\n",
        "        \"tamanho\": np.random.normal(7, 0.5, n),    # em cm\n",
        "        \"doçura\": np.random.normal(6, 1, n)        # em escala de 1-10\n",
        "    },\n",
        "    \"Banana\": {\n",
        "        \"peso\": np.random.normal(120, 15, n),\n",
        "        \"tamanho\": np.random.normal(15, 1, n),\n",
        "        \"doçura\": np.random.normal(8, 0.7, n)\n",
        "    },\n",
        "    \"Laranja\": {\n",
        "        \"peso\": np.random.normal(180, 20, n),\n",
        "        \"tamanho\": np.random.normal(8, 0.6, n),\n",
        "        \"doçura\": np.random.normal(5, 1, n)\n",
        "    }\n",
        "}\n",
        "\n",
        "# Construindo o DataFrame\n",
        "dados = []\n",
        "for fruta, valores in frutas.items():\n",
        "    for p, t, d in zip(valores[\"peso\"], valores[\"tamanho\"], valores[\"doçura\"]):\n",
        "        dados.append([p, t, d, fruta])\n",
        "\n",
        "df = pd.DataFrame(dados, columns=[\"peso\", \"tamanho\", \"doçura\", \"classe\"])\n",
        "\n",
        "print(df.head())"
      ]
    },
    {
      "cell_type": "markdown",
      "id": "fecb5621",
      "metadata": {
        "id": "fecb5621"
      },
      "source": [
        "## 2. Dividir em treino e teste"
      ]
    },
    {
      "cell_type": "code",
      "execution_count": null,
      "id": "b1be4b53",
      "metadata": {
        "id": "b1be4b53"
      },
      "outputs": [],
      "source": [
        "from sklearn.model_selection import train_test_split\n",
        "\n",
        "X = df[['peso', 'tamanho', 'doçura']].values\n",
        "y = df['classe'].map({'Maçã':0,'Banana':1,'Laranja':2}).values\n",
        "\n",
        "X_train, X_test, y_train, y_test = train_test_split(X, y, test_size=0.3,\n",
        "                                                    random_state=42)\n",
        "print('Tamanho treino:', len(X_train), 'Tamanho teste:', len(X_test))"
      ]
    },
    {
      "cell_type": "markdown",
      "id": "e93db7f5",
      "metadata": {
        "id": "e93db7f5"
      },
      "source": [
        "## 3. Normalização e Treinamento do Modelo"
      ]
    },
    {
      "cell_type": "code",
      "execution_count": null,
      "id": "5cfd7ab3",
      "metadata": {
        "id": "5cfd7ab3"
      },
      "outputs": [],
      "source": [
        "from sklearn.preprocessing import StandardScaler\n",
        "from sklearn.neighbors import KNeighborsClassifier\n",
        "\n",
        "scaler = StandardScaler()\n",
        "X_train_scaled = scaler.fit_transform(X_train)\n",
        "X_test_scaled = scaler.transform(X_test)\n",
        "\n",
        "knn = KNeighborsClassifier(n_neighbors=3)\n",
        "knn.fit(X_train_scaled, y_train)"
      ]
    },
    {
      "cell_type": "markdown",
      "id": "a21a07d5",
      "metadata": {
        "id": "a21a07d5"
      },
      "source": [
        "## 4. Avaliação do Modelo"
      ]
    },
    {
      "cell_type": "code",
      "execution_count": null,
      "id": "5e9c9f05",
      "metadata": {
        "id": "5e9c9f05"
      },
      "outputs": [],
      "source": [
        "from sklearn.metrics import accuracy_score, classification_report, confusion_matrix\n",
        "\n",
        "y_pred = knn.predict(X_test_scaled)\n",
        "acc = accuracy_score(y_test, y_pred)\n",
        "cm = confusion_matrix(y_test, y_pred)\n",
        "print('Acurácia:', acc)\n",
        "print('\\nMatriz de Confusão:\\n', cm)\n",
        "print('\\nRelatório de Classificação:\\n', classification_report(y_test, y_pred,\n",
        "                                                               target_names=['Maçã','Banana','Laranja']))"
      ]
    },
    {
      "cell_type": "markdown",
      "id": "39ce2216",
      "metadata": {
        "id": "39ce2216"
      },
      "source": [
        "## 5. Predizer uma nova fruta"
      ]
    },
    {
      "cell_type": "code",
      "execution_count": null,
      "id": "359e17fd",
      "metadata": {
        "id": "359e17fd"
      },
      "outputs": [],
      "source": [
        "# Exemplo: fruta com peso=160g, tamanho=8cm, doçura=6\n",
        "nova_fruta = np.array([[160, 8, 6]])\n",
        "nova_fruta_scaled = scaler.transform(nova_fruta)\n",
        "classe_pred = knn.predict(nova_fruta_scaled)[0]\n",
        "print('Classe prevista:', ['Maçã','Banana','Laranja'][classe_pred])"
      ]
    }
  ],
  "metadata": {
    "colab": {
      "provenance": []
    },
    "language_info": {
      "name": "python"
    },
    "kernelspec": {
      "name": "python3",
      "display_name": "Python 3"
    }
  },
  "nbformat": 4,
  "nbformat_minor": 5
}