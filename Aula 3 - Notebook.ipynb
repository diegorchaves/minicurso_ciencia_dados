{
  "nbformat": 4,
  "nbformat_minor": 0,
  "metadata": {
    "colab": {
      "provenance": []
    },
    "kernelspec": {
      "name": "python3",
      "display_name": "Python 3"
    },
    "language_info": {
      "name": "python"
    }
  },
  "cells": [
    {
      "cell_type": "markdown",
      "source": [
        "Nesta primeira célula, importamos as bibliotecas que usaremos:\n",
        "\n",
        "- numpy para criar nossos dados numéricos.\n",
        "\n",
        "- matplotlib.pyplot para visualizar os dados e o resultado da regressão.\n",
        "\n",
        "- LinearRegression do sklearn.linear_model para criar e treinar nosso modelo.\n",
        "\n",
        "- train_test_split do sklearn.model_selection para dividir nossos dados em conjuntos de treino e teste."
      ],
      "metadata": {
        "id": "BTakgz2AUOfn"
      }
    },
    {
      "cell_type": "code",
      "execution_count": null,
      "metadata": {
        "id": "chdyulETUBPv"
      },
      "outputs": [],
      "source": [
        "import numpy as np\n",
        "import matplotlib.pyplot as plt\n",
        "from sklearn.linear_model import LinearRegression\n",
        "from sklearn.model_selection import train_test_split\n",
        "\n",
        "print(\"Bibliotecas importadas com sucesso!\")"
      ]
    },
    {
      "cell_type": "markdown",
      "source": [
        "Aqui, vamos criar dados sintéticos. X será nossa variável independente (característica) e y será nossa variável dependente (alvo). Criaremos uma relação aproximadamente linear entre eles, adicionando um pouco de \"ruído\" para tornar os dados mais realistas."
      ],
      "metadata": {
        "id": "ErUfR2NBUFox"
      }
    },
    {
      "cell_type": "code",
      "source": [
        "np.random.seed(42)\n",
        "\n",
        "# Criar a variável independente (X)\n",
        "# Usaremos 100 pontos de dados variando de 0 a 10\n",
        "X = 10 * np.random.rand(100, 1)\n",
        "\n",
        "# Criar a variável dependente (y) com uma relação linear e ruído\n",
        "# y = 5 + 2*X + ruído\n",
        "y = 5 + 2 * X + np.random.randn(100, 1)\n",
        "\n",
        "# Vamos visualizar os dados que criamos\n",
        "plt.figure(figsize=(10, 6))\n",
        "plt.scatter(X, y)\n",
        "plt.title('Dados Fictícios Gerados')\n",
        "plt.xlabel('Variável Independente (X)')\n",
        "plt.ylabel('Variável Dependente (y)')\n",
        "plt.grid(True)\n",
        "plt.show()"
      ],
      "metadata": {
        "id": "SzAQT0vhUe7x"
      },
      "execution_count": null,
      "outputs": []
    },
    {
      "cell_type": "markdown",
      "source": [
        "Agora, dividimos nossos dados em treino e teste."
      ],
      "metadata": {
        "id": "7tKL7c3XUvWV"
      }
    },
    {
      "cell_type": "code",
      "source": [
        "# Dividir os dados: 80% para treino, 20% para teste\n",
        "X_train, X_test, y_train, y_test = train_test_split(X, y, test_size=0.2, random_state=42)\n",
        "\n",
        "print(f\"Tamanho do conjunto de treino: {X_train.shape[0]} amostras\")\n",
        "print(f\"Tamanho do conjunto de teste: {X_test.shape[0]} amostras\")"
      ],
      "metadata": {
        "id": "zB338BxfUyK2"
      },
      "execution_count": null,
      "outputs": []
    },
    {
      "cell_type": "markdown",
      "source": [
        "Agora, vamos criar uma instância do modelo LinearRegression e usar o método ```.fit()``` para treiná-lo com nossos dados de treino"
      ],
      "metadata": {
        "id": "Yx0ypsotU0go"
      }
    },
    {
      "cell_type": "markdown",
      "source": [],
      "metadata": {
        "id": "YvNT0NBAVIgk"
      }
    },
    {
      "cell_type": "code",
      "source": [
        "# Criar uma instância do modelo\n",
        "modelo_regressao = LinearRegression()\n",
        "\n",
        "# Treinar o modelo com os dados de treino\n",
        "modelo_regressao.fit(X_train, y_train)\n",
        "\n",
        "print(\"Modelo treinado com sucesso!\")\n",
        "\n",
        "# O modelo aprendeu os melhores coeficientes para a linha de regressão\n",
        "# O coeficiente angular (slope) é chamado de 'coef_'\n",
        "# O coeficiente linear (intercept) é chamado de 'intercept_'\n",
        "print(f\"Coeficiente angular (m): {modelo_regressao.coef_[0][0]:.2f}\")\n",
        "print(f\"Intercepto (b): {modelo_regressao.intercept_[0]:.2f}\")"
      ],
      "metadata": {
        "id": "Hdl1m0EvVK4W"
      },
      "execution_count": null,
      "outputs": []
    },
    {
      "cell_type": "markdown",
      "source": [
        "Com o modelo treinado, podemos agora usar o método ```.predict()``` para fazer previsões sobre os dados de teste ```(X_test)```."
      ],
      "metadata": {
        "id": "DU1izhDuVTKQ"
      }
    },
    {
      "cell_type": "code",
      "source": [
        "# Fazer previsões no conjunto de teste\n",
        "y_pred = modelo_regressao.predict(X_test)\n",
        "\n",
        "print(\"Previsões realizadas no conjunto de teste.\")"
      ],
      "metadata": {
        "id": "hFh5sNE0Vdyc"
      },
      "execution_count": null,
      "outputs": []
    },
    {
      "cell_type": "markdown",
      "source": [
        "Agora, visualizamos os resultados."
      ],
      "metadata": {
        "id": "_fHsmODeVfky"
      }
    },
    {
      "cell_type": "code",
      "source": [
        "# Plotar os resultados\n",
        "plt.figure(figsize=(12, 7))\n",
        "\n",
        "# Plotar os dados de treino (azul)\n",
        "plt.scatter(X_train, y_train, color='blue', label='Dados de Treino')\n",
        "\n",
        "# Plotar os dados de teste (verde)\n",
        "plt.scatter(X_test, y_test, color='green', label='Dados de Teste Reais')\n",
        "\n",
        "# Plotar a linha de regressão (vermelho)\n",
        "# Usaremos o modelo treinado para prever valores em todo o intervalo de X\n",
        "plt.plot(X, modelo_regressao.predict(X), color='red', linewidth=2, label='Linha de Regressão')\n",
        "\n",
        "plt.title('Regressão Linear Simples')\n",
        "plt.xlabel('Variável Independente (X)')\n",
        "plt.ylabel('Variável Dependente (y)')\n",
        "plt.legend()\n",
        "plt.grid(True)\n",
        "plt.show()"
      ],
      "metadata": {
        "id": "X2LcfirhVjtP"
      },
      "execution_count": null,
      "outputs": []
    }
  ]
}